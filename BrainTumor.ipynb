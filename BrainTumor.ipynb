{
 "cells": [
  {
   "cell_type": "code",
   "execution_count": 7,
   "id": "15041110",
   "metadata": {},
   "outputs": [],
   "source": [
    "# Import libraries\n",
    "import numpy as np\n",
    "import cv2\n",
    "import os\n",
    "from sklearn.model_selection import train_test_split\n",
    "from sklearn.svm import SVC\n",
    "from sklearn.metrics import accuracy_score, confusion_matrix, classification_report\n",
    "import matplotlib.pyplot as plt\n"
   ]
  },
  {
   "cell_type": "code",
   "execution_count": 8,
   "id": "ad4524e8",
   "metadata": {},
   "outputs": [],
   "source": [
    "# Function to compute GLCM\n",
    "def compute_glcm(image, distance=1, angle=0):\n",
    "    rows, cols = image.shape\n",
    "    max_gray = 256\n",
    "    glcm = np.zeros((max_gray, max_gray), dtype=np.uint32)\n",
    "\n",
    "    dx = int(np.round(np.cos(angle) * distance))\n",
    "    dy = int(np.round(np.sin(angle) * distance))\n",
    "\n",
    "    for y in range(rows):\n",
    "        for x in range(cols):\n",
    "            if (0 <= x + dx < cols) and (0 <= y + dy < rows):\n",
    "                i = image[y, x]\n",
    "                j = image[y + dy, x + dx]\n",
    "                glcm[i, j] += 1\n",
    "\n",
    "    glcm = glcm + glcm.T  # Symmetric\n",
    "    glcm = glcm / np.sum(glcm)  # Normalize\n",
    "    return glcm\n",
    "\n",
    "# Function to compute features from GLCM\n",
    "def compute_features(glcm):\n",
    "    contrast = 0\n",
    "    homogeneity = 0\n",
    "    energy = 0\n",
    "    correlation = 0\n",
    "\n",
    "    mean_i = np.sum(np.arange(256) * np.sum(glcm, axis=1))\n",
    "    mean_j = np.sum(np.arange(256) * np.sum(glcm, axis=0))\n",
    "    std_i = np.sqrt(np.sum((np.arange(256) - mean_i)**2 * np.sum(glcm, axis=1)))\n",
    "    std_j = np.sqrt(np.sum((np.arange(256) - mean_j)**2 * np.sum(glcm, axis=0)))\n",
    "\n",
    "    for i in range(256):\n",
    "        for j in range(256):\n",
    "            contrast += (i - j) ** 2 * glcm[i, j]\n",
    "            homogeneity += glcm[i, j] / (1.0 + abs(i - j))\n",
    "            energy += glcm[i, j] ** 2\n",
    "            if std_i > 0 and std_j > 0:\n",
    "                correlation += (i * j * glcm[i, j] - mean_i * mean_j) / (std_i * std_j)\n",
    "\n",
    "    return [contrast, homogeneity, energy, correlation]\n"
   ]
  },
  {
   "cell_type": "code",
   "execution_count": 9,
   "id": "58e1781b",
   "metadata": {},
   "outputs": [
    {
     "name": "stdout",
     "output_type": "stream",
     "text": [
      "Total samples: 3000\n"
     ]
    }
   ],
   "source": [
    "# Define your dataset path\n",
    "dataset_path = 'datasets/'\n",
    "\n",
    "# Prepare data\n",
    "X = []\n",
    "y = []\n",
    "\n",
    "labels = os.listdir(dataset_path)\n",
    "\n",
    "for label in labels:\n",
    "    class_folder = os.path.join(dataset_path, label)\n",
    "    if os.path.isdir(class_folder):\n",
    "        for file in os.listdir(class_folder):\n",
    "            img_path = os.path.join(class_folder, file)\n",
    "            img = cv2.imread(img_path)\n",
    "            if img is not None:\n",
    "                gray = cv2.cvtColor(img, cv2.COLOR_BGR2GRAY)\n",
    "                gray = cv2.resize(gray, (256, 256))  # Resize if needed\n",
    "\n",
    "                glcm = compute_glcm(gray)\n",
    "                features = compute_features(glcm)\n",
    "\n",
    "                X.append(features)\n",
    "                y.append(label)\n",
    "\n",
    "print(f\"Total samples: {len(X)}\")\n"
   ]
  },
  {
   "cell_type": "code",
   "execution_count": 12,
   "id": "5adb3158",
   "metadata": {},
   "outputs": [
    {
     "name": "stdout",
     "output_type": "stream",
     "text": [
      "Accuracy: 0.6533333333333333\n",
      "\n",
      "Confusion Matrix:\n",
      " [[168 145]\n",
      " [ 63 224]]\n",
      "\n",
      "Classification Report:\n",
      "               precision    recall  f1-score   support\n",
      "\n",
      "          no       0.73      0.54      0.62       313\n",
      "         yes       0.61      0.78      0.68       287\n",
      "\n",
      "    accuracy                           0.65       600\n",
      "   macro avg       0.67      0.66      0.65       600\n",
      "weighted avg       0.67      0.65      0.65       600\n",
      "\n"
     ]
    }
   ],
   "source": [
    "# Split data\n",
    "X_train, X_test, y_train, y_test = train_test_split(X, y, test_size=0.2, random_state=42)\n",
    "\n",
    "# Train the model\n",
    "model = SVC(kernel='linear')\n",
    "model.fit(X_train, y_train)\n",
    "\n",
    "# Predict\n",
    "y_pred = model.predict(X_test)\n",
    "\n",
    "# Results\n",
    "print(\"Accuracy:\", accuracy_score(y_test, y_pred))\n",
    "print(\"\\nConfusion Matrix:\\n\", confusion_matrix(y_test, y_pred))\n",
    "print(\"\\nClassification Report:\\n\", classification_report(y_test, y_pred))\n"
   ]
  },
  {
   "cell_type": "code",
   "execution_count": 11,
   "id": "b37580be",
   "metadata": {},
   "outputs": [
    {
     "data": {
      "image/png": "[encoded data removed]",
      "text/plain": [
       "<Figure size 1000x600 with 1 Axes>"
      ]
     },
     "metadata": {},
     "output_type": "display_data"
    }
   ],
   "source": [
    "# Get the unique class labels\n",
    "classes = list(set(y_test))\n",
    "\n",
    "# Create a dictionary to store correct predictions\n",
    "correct_preds = {label: 0 for label in classes}\n",
    "\n",
    "# Count correct predictions per class\n",
    "for true_label, pred_label in zip(y_test, y_pred):\n",
    "    if true_label == pred_label:\n",
    "        correct_preds[true_label] += 1\n",
    "\n",
    "# Plotting\n",
    "plt.figure(figsize=(10,6))\n",
    "plt.bar(correct_preds.keys(), correct_preds.values(), color='skyblue')\n",
    "plt.title(\"Correct Predictions per Class\")\n",
    "plt.xlabel(\"Class\")\n",
    "plt.ylabel(\"Number of Correct Predictions\")\n",
    "plt.xticks(rotation=45)\n",
    "plt.grid(axis='y')\n",
    "plt.show()\n"
   ]
  }
 ],
 "metadata": {
  "kernelspec": {
   "display_name": "Python 3",
   "language": "python",
   "name": "python3"
  },
  "language_info": {
   "codemirror_mode": {
    "name": "ipython",
    "version": 3
   },
   "file_extension": ".py",
   "mimetype": "text/x-python",
   "name": "python",
   "nbconvert_exporter": "python",
   "pygments_lexer": "ipython3",
   "version": "3.13.1"
  }
 },
 "nbformat": 4,
 "nbformat_minor": 5
}
